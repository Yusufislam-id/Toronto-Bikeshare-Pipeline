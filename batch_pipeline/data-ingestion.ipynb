{
 "cells": [
  {
   "cell_type": "code",
   "execution_count": 2,
   "metadata": {},
   "outputs": [],
   "source": [
    "import requests\n",
    "import zipfile\n",
    "import os"
   ]
  },
  {
   "cell_type": "code",
   "execution_count": 3,
   "metadata": {},
   "outputs": [],
   "source": [
    "base_url = \"https://ckan0.cf.opendata.inter.prod-toronto.ca\"\n",
    "package_id = \"bike-share-toronto-ridership-data\"\n",
    "\n",
    "# Get package information\n",
    "package_url = f\"{base_url}/api/3/action/package_show\"\n",
    "params = {\"id\": package_id}\n",
    "package = requests.get(package_url, params=params).json()"
   ]
  },
  {
   "cell_type": "markdown",
   "metadata": {},
   "source": [
    "Download"
   ]
  },
  {
   "cell_type": "code",
   "execution_count": 5,
   "metadata": {},
   "outputs": [
    {
     "name": "stdout",
     "output_type": "stream",
     "text": [
      "Saved as: ./data\\bikeshare-ridership-2022.zip\n",
      "\n"
     ]
    }
   ],
   "source": [
    "# Define folder where files will be saved\n",
    "data_folder = \"./data\"\n",
    "data_year = \"2022\"\n",
    "\n",
    "# Iterate through resources and download matching files\n",
    "for resource in package[\"result\"][\"resources\"]:\n",
    "    if not resource[\"datastore_active\"]:\n",
    "        resource_id = resource[\"id\"]\n",
    "        resource_name = resource[\"name\"]\n",
    "        resource_url = resource[\"url\"]\n",
    "\n",
    "        if f'bikeshare-ridership-{data_year}' in resource_name:  # Check for specific file name\n",
    "            # Check and create folder if not exist\n",
    "            if not os.path.exists(data_folder):\n",
    "                os.makedirs(data_folder)\n",
    "                print(f\"Folder created: {data_folder}\")\n",
    "\n",
    "            response = requests.get(resource_url)\n",
    "            if response.status_code == 200:\n",
    "                file_extension = resource[\"format\"].lower()\n",
    "                filename = f\"{resource_name}.{file_extension}\"\n",
    "                file_path = os.path.join(data_folder, filename)  # Save inside the 'data' folder\n",
    "\n",
    "                with open(file_path, \"wb\") as file:\n",
    "                    file.write(response.content)\n",
    "                print(f\"Saved as: {file_path}\\n\")\n",
    "            else:\n",
    "                print(f\"Failed to download {resource_name}\\n\")\n"
   ]
  },
  {
   "cell_type": "markdown",
   "metadata": {},
   "source": [
    "Extract"
   ]
  },
  {
   "cell_type": "code",
   "execution_count": 6,
   "metadata": {},
   "outputs": [],
   "source": [
    "def extract_zip(zip_path, extract_to):\n",
    "    with zipfile.ZipFile(zip_path, 'r') as zip_ref:\n",
    "        zip_ref.extractall(extract_to)\n",
    "    os.remove(zip_path)  # Delete the zip file after extraction\n",
    "\n",
    "def process_directory(directory):\n",
    "    for root, dirs, files in os.walk(directory, topdown=False):  # Ensure directories are processed last\n",
    "        for file in files:\n",
    "            file_path = os.path.join(root, file)\n",
    "            if file.endswith('.zip'):\n",
    "                print(f\"Extracting {file_path}\")\n",
    "                extract_zip(file_path, root)\n",
    "        \n",
    "        # Ensure only CSV files remain\n",
    "        for file in os.listdir(root):\n",
    "            file_path = os.path.join(root, file)\n",
    "            if os.path.isdir(file_path):\n",
    "                continue  # Skip directories\n",
    "            if not file.endswith('.csv'):\n",
    "                print(f\"Removing non-CSV file: {file_path}\")\n",
    "                os.remove(file_path)"
   ]
  },
  {
   "cell_type": "code",
   "execution_count": 18,
   "metadata": {},
   "outputs": [],
   "source": [
    "zip_file_path = f\"./data/bikeshare-ridership-{data_year}.zip\"\n",
    "extract_location = f\"./bikeshare-ridership-{data_year}\"\n",
    "\n",
    "# if not os.path.exists(extract_location):\n",
    "#     os.makedirs(extract_location)\n",
    "\n",
    "extract_zip(zip_file_path, data_folder)\n",
    "process_directory(data_folder)"
   ]
  },
  {
   "cell_type": "code",
   "execution_count": 7,
   "metadata": {},
   "outputs": [
    {
     "name": "stdout",
     "output_type": "stream",
     "text": [
      "Extracting ./data/bikeshare-ridership-2022\\Bike share ridership 2022-11.zip\n"
     ]
    }
   ],
   "source": [
    "process_directory(f\"{data_folder}/bikeshare-ridership-{data_year}\")"
   ]
  }
 ],
 "metadata": {
  "kernelspec": {
   "display_name": "env",
   "language": "python",
   "name": "python3"
  },
  "language_info": {
   "codemirror_mode": {
    "name": "ipython",
    "version": 3
   },
   "file_extension": ".py",
   "mimetype": "text/x-python",
   "name": "python",
   "nbconvert_exporter": "python",
   "pygments_lexer": "ipython3",
   "version": "3.12.0"
  }
 },
 "nbformat": 4,
 "nbformat_minor": 2
}

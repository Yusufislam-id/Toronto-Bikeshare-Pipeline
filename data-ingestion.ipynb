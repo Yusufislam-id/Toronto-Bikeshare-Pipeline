{
 "cells": [
  {
   "cell_type": "code",
   "execution_count": null,
   "metadata": {},
   "outputs": [],
   "source": [
    "import ckanapi\n",
    "import requests\n",
    "import json\n",
    "import zipfile\n",
    "import os"
   ]
  },
  {
   "cell_type": "code",
   "execution_count": null,
   "metadata": {},
   "outputs": [],
   "source": [
    "base_url = \"https://ckan0.cf.opendata.inter.prod-toronto.ca\"\n",
    "package_id = \"bike-share-toronto-ridership-data\"\n",
    "\n",
    "# Get package information\n",
    "package_url = f\"{base_url}/api/3/action/package_show\"\n",
    "params = {\"id\": package_id}\n",
    "package = requests.get(package_url, params=params).json()"
   ]
  },
  {
   "cell_type": "markdown",
   "metadata": {},
   "source": [
    "Download"
   ]
  },
  {
   "cell_type": "code",
   "execution_count": null,
   "metadata": {},
   "outputs": [],
   "source": [
    "for resource in package[\"result\"][\"resources\"]:\n",
    "    if not resource[\"datastore_active\"]:\n",
    "        resource_id = resource[\"id\"]\n",
    "        resource_name = resource[\"name\"]\n",
    "        resource_url = resource[\"url\"]\n",
    "        # print(resource_name, resource_url)\n",
    "        if 'bikeshare-ridership-2022' in resource_name:  # Use 'in' for substring check\n",
    "          response = requests.get(resource_url)\n",
    "          if response.status_code == 200:\n",
    "              file_extension = resource[\"format\"].lower()\n",
    "              filename = f\"{resource_name}.{file_extension}\"\n",
    "\n",
    "              with open(filename, \"wb\") as file:\n",
    "                  file.write(response.content)\n",
    "              print(f\"Saved as: {filename}\\n\")\n",
    "          else:\n",
    "              print(f\"Failed to download {resource_name}\\n\")"
   ]
  },
  {
   "cell_type": "markdown",
   "metadata": {},
   "source": [
    "Extract"
   ]
  },
  {
   "cell_type": "code",
   "execution_count": null,
   "metadata": {},
   "outputs": [],
   "source": [
    "def extract_zip(zip_path, extract_to):\n",
    "    with zipfile.ZipFile(zip_path, 'r') as zip_ref:\n",
    "        zip_ref.extractall(extract_to)\n",
    "    os.remove(zip_path)  # Delete the zip file after extraction\n",
    "\n",
    "def process_directory(directory):\n",
    "    for root, dirs, files in os.walk(directory, topdown=False):  # Ensure directories are processed last\n",
    "        for file in files:\n",
    "            file_path = os.path.join(root, file)\n",
    "            if file.endswith('.zip'):\n",
    "                print(f\"Extracting {file_path}\")\n",
    "                extract_zip(file_path, root)\n",
    "        \n",
    "        # Ensure only CSV files remain\n",
    "        for file in os.listdir(root):\n",
    "            file_path = os.path.join(root, file)\n",
    "            if os.path.isdir(file_path):\n",
    "                continue  # Skip directories\n",
    "            if not file.endswith('.csv'):\n",
    "                print(f\"Removing non-CSV file: {file_path}\")\n",
    "                os.remove(file_path)"
   ]
  },
  {
   "cell_type": "code",
   "execution_count": null,
   "metadata": {},
   "outputs": [],
   "source": [
    "zip_file_path = \"bikeshare-ridership-2022.zip\"\n",
    "extract_location = \"./\"\n",
    "\n",
    "# if not os.path.exists(extract_location):\n",
    "#     os.makedirs(extract_location)\n",
    "\n",
    "extract_zip(zip_file_path, extract_location)\n",
    "process_directory(extract_location)"
   ]
  }
 ],
 "metadata": {
  "language_info": {
   "name": "python"
  }
 },
 "nbformat": 4,
 "nbformat_minor": 2
}
